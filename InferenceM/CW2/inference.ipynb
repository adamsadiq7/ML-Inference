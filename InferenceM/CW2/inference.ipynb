{
 "cells": [
  {
   "cell_type": "markdown",
   "metadata": {},
   "source": [
    "# Inference\n"
   ]
  },
  {
   "cell_type": "code",
   "execution_count": 1,
   "metadata": {},
   "outputs": [
    {
     "name": "stderr",
     "output_type": "stream",
     "text": [
      "/Users/adamsadiq/Downloads/anaconda3/lib/python3.7/site-packages/ipykernel_launcher.py:30: DeprecationWarning: `imread` is deprecated!\n",
      "`imread` is deprecated in SciPy 1.0.0, and will be removed in 1.2.0.\n",
      "Use ``imageio.imread`` instead.\n"
     ]
    },
    {
     "data": {
      "text/plain": [
       "<Figure size 640x480 with 3 Axes>"
      ]
     },
     "metadata": {},
     "output_type": "display_data"
    }
   ],
   "source": [
    "import numpy as np\n",
    "import matplotlib.pyplot as plt\n",
    "from scipy.misc import imread\n",
    "from scipy.spatial import distance\n",
    "\n",
    "def add_gaussian_noise(im,prop,varSigma):\n",
    "    N = int(np.round(np.prod(im.shape)*prop))\n",
    "    \n",
    "    index = np.unravel_index(np.random.permutation(np.prod(im.shape))[1:N],im.shape)\n",
    "    e = varSigma*np.random.randn(np.prod(im.shape)).reshape(im.shape)\n",
    "    im2 = np.copy(im).astype('float')\n",
    "    im2[index] +=e[index]\n",
    "    \n",
    "    return im2\n",
    "\n",
    "\n",
    "def add_saltnpeppar_noise(im,prop):\n",
    "    N = int(np.round(np.prod(im.shape)*prop))\n",
    "    index = np.unravel_index(np.random.permutation(np.prod(im.shape))[1:N],im.shape)\n",
    "    im2 = np.copy(im)\n",
    "    im2[index] = 1 - im2[index]\n",
    "    \n",
    "    return im2\n",
    "\n",
    "\n",
    "\n",
    "\n",
    "prop = 0.7\n",
    "varSigma = 0.1\n",
    "im = imread('pug-done.jpg')\n",
    "im = im/255\n",
    "height = im.shape[0] \n",
    "width = im.shape[1]\n",
    "fig = plt.figure()\n",
    "ax = fig.add_subplot(131)\n",
    "ax.imshow(im,cmap=\"gray\")\n",
    "\n",
    "imG = add_gaussian_noise(im,prop,varSigma)\n",
    "axG = fig.add_subplot(132)\n",
    "axG.imshow(imG,cmap=\"gray\")\n",
    "\n",
    "imSP = add_saltnpeppar_noise(im,prop)\n",
    "axSP = fig.add_subplot(133)\n",
    "axSP.imshow(imSP,cmap=\"gray\")\n",
    "\n",
    "plt.show()"
   ]
  },
  {
   "cell_type": "code",
   "execution_count": 2,
   "metadata": {},
   "outputs": [],
   "source": [
    "def neighbours(i,j,M,N,size =8):\n",
    "    if size ==4:\n",
    "        if( i==0 and j ==0):\n",
    "            n = [(0,1),(1,0)]\n",
    "        elif i==0 and j == N-1:\n",
    "            n == [(0,N-2),(1,N-1)]\n",
    "        elif i == M-1 and j ==0:\n",
    "            n = [(M-1,1),(M-2,0)]\n",
    "        elif i == M-1 and j ==N-1:\n",
    "            n = [(M-1,N-2),(M-2,N-1)]\n",
    "        elif i == 0:\n",
    "            n = [(0,j-1), (0,j+1),(1,j)]\n",
    "        elif i ==M-1:\n",
    "            n = [(M-1,j-1),(M-1,j+1),(M-2,j)]\n",
    "        elif j == 0:\n",
    "            n = [(i-1,0),(i+1,0),(i,1)]\n",
    "        elif j == N-1:\n",
    "            n = [(i-1,N-1),(i+1,N-1),(i,N-2)]\n",
    "        else:\n",
    "            n = [(i-1,j),(i+1,j),(i,j-1), (i,j+1)]\n",
    "        return n\n",
    "    if size ==8:\n",
    "        if( i==0 and j ==0):\n",
    "            n = [(0,1),(1,0),(1,1)]\n",
    "        elif i==0 and j == N-1:\n",
    "            n = [(0,N-2),(1,N-1),(1,N-2)]\n",
    "        elif i == M-1 and j ==0:\n",
    "            n = [(M-1,1),(M-2,0),(M-2,1)]\n",
    "        elif i == M-1 and j ==N-1:\n",
    "            n = [(M-1,N-2),(M-2,N-1),(M-2,N-2)]\n",
    "        elif i == 0:\n",
    "            n = [(0,j-1), (0,j+1),(1,j),(1,j-1),(1,j+1)]\n",
    "        elif i ==M-1:\n",
    "            n = [(M-1,j-1),(M-1,j+1),(M-2,j),(M-2,j-1),(M-2,j+1)]\n",
    "        elif j == 0:\n",
    "            n = [(i-1,0),(i+1,0),(i,1),(i-1,1),(i+1,1)]\n",
    "        elif j == N-1:\n",
    "            n = [(i-1,N-1),(i+1,N-1),(i,N-2),(i-1,N-2),(i+1,N-2)]\n",
    "        else:\n",
    "            n = [(i-1,j),(i+1,j),(i,j-1), (i,j+1),(i-1,j-1),(i-1,j+1),(i+1,j-1),(i+1,j+1)]\n",
    "       \n",
    "        return n\n",
    "\n",
    "    \n",
    "    \n",
    "                "
   ]
  },
  {
   "cell_type": "markdown",
   "metadata": {},
   "source": [
    "## Question 1"
   ]
  },
  {
   "cell_type": "code",
   "execution_count": 3,
   "metadata": {},
   "outputs": [
    {
     "name": "stderr",
     "output_type": "stream",
     "text": [
      "/Users/adamsadiq/Downloads/anaconda3/lib/python3.7/site-packages/ipykernel_launcher.py:46: DeprecationWarning: `imread` is deprecated!\n",
      "`imread` is deprecated in SciPy 1.0.0, and will be removed in 1.2.0.\n",
      "Use ``imageio.imread`` instead.\n"
     ]
    },
    {
     "name": "stdout",
     "output_type": "stream",
     "text": [
      "0\n"
     ]
    },
    {
     "data": {
      "image/png": "[encoded data removed]",
      "text/plain": [
       "<Figure size 432x288 with 1 Axes>"
      ]
     },
     "metadata": {
      "needs_background": "light"
     },
     "output_type": "display_data"
    }
   ],
   "source": [
    "\n",
    "def kronecker(a,b):\n",
    "#     print(a,b)\n",
    "    if (b > 0):\n",
    "        b = 1 \n",
    "    else: \n",
    "        b = -1\n",
    "   \n",
    "    if (a == b):\n",
    "        return 1\n",
    "    return -1\n",
    "    \n",
    "def energy(x,im,indices,val,curpixel,alpha,beta):\n",
    "    energy = 0\n",
    "#   h = 0 simply means that the prior probabillities of the two states (black or white) are equal\n",
    "    h = 0\n",
    "#     calculates the energy of a given value for a pixel\n",
    "    for i in range(len(indices)):\n",
    "#         energy += h*x[indices[i]] -beta*val*x[indices[i]]*x[curpixel]- n*x[indices[i]]*im[indices[i]]\n",
    "          energy += alpha*(1-kronecker(val,im[curpixel])) + beta*(1-kronecker(val,x[indices[i]]))                                                           \n",
    "    return energy\n",
    "# test count\n",
    "# firstpxindices = neighbours(0,0,im2.shape[0],im2.shape[1])\n",
    "# print(neighboursCount(im2,firstpxindices,1))\n",
    "        \n",
    "def ICM(im,tau):\n",
    "\n",
    "    x = im\n",
    "\n",
    "    \n",
    "    for t in range(tau):\n",
    "        print(t)\n",
    "        for i in range(0,height):\n",
    "            for j in range(0,width):\n",
    "                a = energy(x,im,neighbours(i,j,height,width),1,(i,j),2,1)\n",
    "                b = energy(x,im,neighbours(i,j,height,width),-1,(i,j),2,1)\n",
    "                if ( a < b ):\n",
    "                    x[(i,j)] = 1\n",
    "                else:\n",
    "                    x[(i,j)] = -1\n",
    "    \n",
    "    return x\n",
    "\n",
    "prop = 0.4\n",
    "varSigma = 0.2\n",
    "im = imread('pug-done.jpg')\n",
    "im = im/255\n",
    "\n",
    "fig1 = plt.figure()\n",
    "# ax4 = fig1.add_subplot(131)\n",
    "# ax4.imshow(im,cmap=\"gray\")\n",
    "\n",
    "# im2 = add_gaussian_noise(im,prop,varSigma)\n",
    "# ax5 = fig1.add_subplot(121)\n",
    "# ax5.imshow(im2,cmap=\"gray\")\n",
    "\n",
    "im3 = ICM(imG,1)\n",
    "\n",
    "ax6 = fig1.add_subplot(122)\n",
    "ax6.imshow(im3,cmap=\"gray\")\n",
    "\n",
    "plt.show()"
   ]
  },
  {
   "cell_type": "markdown",
   "metadata": {},
   "source": [
    "## Question 2"
   ]
  },
  {
   "cell_type": "code",
   "execution_count": 4,
   "metadata": {},
   "outputs": [
    {
     "name": "stderr",
     "output_type": "stream",
     "text": [
      "/Users/adamsadiq/Downloads/anaconda3/lib/python3.7/site-packages/ipykernel_launcher.py:32: DeprecationWarning: `imread` is deprecated!\n",
      "`imread` is deprecated in SciPy 1.0.0, and will be removed in 1.2.0.\n",
      "Use ``imageio.imread`` instead.\n"
     ]
    },
    {
     "name": "stdout",
     "output_type": "stream",
     "text": [
      "0\n"
     ]
    },
    {
     "data": {
      "image/png": "[encoded data removed]",
      "text/plain": [
       "<Figure size 432x288 with 2 Axes>"
      ]
     },
     "metadata": {
      "needs_background": "light"
     },
     "output_type": "display_data"
    }
   ],
   "source": [
    "def gibbsSampling(im,tau):\n",
    "\n",
    "    x = im    \n",
    " \n",
    "    \n",
    "    for t in range(tau):\n",
    "        print(t)\n",
    "        for i in range(0,height):\n",
    "            for j in range(0,width):\n",
    "                \n",
    "                z = np.random.uniform(0, 1)\n",
    "                a = energy(x,im,neighbours(i,j,height,width),1,(i,j),2,1)\n",
    "                b = energy(x,im,neighbours(i,j,height,width),-1,(i,j),2,1)\n",
    "                \n",
    "                p = a / (a+b)\n",
    "                \n",
    "                if ( z > p ):\n",
    "                    x[(i,j)] = 1\n",
    "                else:\n",
    "                    x[(i,j)] = -1\n",
    "\n",
    "       \n",
    "            \n",
    "    \n",
    "    \n",
    "    return x\n",
    "\n",
    "prop = 0.4\n",
    "\n",
    "\n",
    "varSigma = 0.4\n",
    "im = imread('pug-done.jpg')\n",
    "im = im/255\n",
    "\n",
    "fig2 = plt.figure()\n",
    "# ax7 = fig2.add_subplot(131)\n",
    "# ax7.imshow(im,cmap=\"gray\")\n",
    "\n",
    "im2 = add_gaussian_noise(im,prop,varSigma)\n",
    "ax8 = fig2.add_subplot(121)\n",
    "ax8.imshow(im2,cmap=\"gray\")\n",
    "# print(im)\n",
    "\n",
    "\n",
    "\n",
    "im3 = gibbsSampling(im2,1)\n",
    "ax9 = fig2.add_subplot(122)\n",
    "ax9.imshow(im2,cmap=\"gray\")\n",
    "\n",
    "\n",
    "plt.show()\n",
    "\n"
   ]
  },
  {
   "cell_type": "markdown",
   "metadata": {
    "collapsed": true
   },
   "source": [
    "## Question 3"
   ]
  },
  {
   "cell_type": "code",
   "execution_count": 5,
   "metadata": {},
   "outputs": [
    {
     "name": "stderr",
     "output_type": "stream",
     "text": [
      "/Users/adamsadiq/Downloads/anaconda3/lib/python3.7/site-packages/ipykernel_launcher.py:41: DeprecationWarning: `imread` is deprecated!\n",
      "`imread` is deprecated in SciPy 1.0.0, and will be removed in 1.2.0.\n",
      "Use ``imageio.imread`` instead.\n"
     ]
    },
    {
     "name": "stdout",
     "output_type": "stream",
     "text": [
      "0\n"
     ]
    },
    {
     "name": "stderr",
     "output_type": "stream",
     "text": [
      "/Users/adamsadiq/Downloads/anaconda3/lib/python3.7/site-packages/matplotlib/cbook/deprecation.py:107: MatplotlibDeprecationWarning: Adding an axes using the same arguments as a previous axes currently reuses the earlier instance.  In a future version, a new instance will always be created and returned.  Meanwhile, this warning can be suppressed, and the future behavior ensured, by passing a unique label to each axes instance.\n",
      "  warnings.warn(message, mplDeprecation, stacklevel=1)\n"
     ]
    },
    {
     "name": "stdout",
     "output_type": "stream",
     "text": [
      "0\n",
      "1\n",
      "2\n",
      "3\n",
      "4\n",
      "0\n",
      "1\n",
      "2\n",
      "3\n",
      "4\n",
      "5\n",
      "6\n",
      "7\n",
      "8\n",
      "9\n"
     ]
    },
    {
     "data": {
      "image/png": "[encoded data removed]",
      "text/plain": [
       "<Figure size 432x288 with 3 Axes>"
      ]
     },
     "metadata": {
      "needs_background": "light"
     },
     "output_type": "display_data"
    }
   ],
   "source": [
    "np.random.seed(20)\n",
    "def gibbsAltered(im,tau):\n",
    "\n",
    "    x = im   \n",
    " \n",
    "    \n",
    "    for t in range(tau):\n",
    "        print(t)\n",
    "        for i_ in range(0,height):\n",
    "            for j_ in range(0,width):\n",
    "                r = np.random.rand(200) * 100\n",
    "                i = r[i_]\n",
    "                np.random.shuffle(r)\n",
    "                j = r[i_]\n",
    "                i = int(i)\n",
    "                j = int(j)\n",
    "            \n",
    "            \n",
    "                distribution = np.random.uniform(0,1)\n",
    "#                 i = int(arr1[i])\n",
    "#                 j = int(arr2[j])\n",
    "                \n",
    "#                 print(i,j)\n",
    "                if(distribution > 0.3):\n",
    "                    z = np.random.uniform(0, 1)\n",
    "                    a = energy(x,im,neighbours(i,j,height,width),1,(i,j),2,1)\n",
    "                    b = energy(x,im,neighbours(i,j,height,width),-1,(i,j),2,1)\n",
    "\n",
    "                    p = a / (a+b)\n",
    "\n",
    "                    if ( z > p ):\n",
    "                        x[(i,j)] = 1\n",
    "                    else:\n",
    "                        x[(i,j)] = -1  \n",
    "    return x\n",
    "\n",
    "prop = 0.4\n",
    "\n",
    "\n",
    "varSigma = 0.2\n",
    "im = imread('pug-done.jpg')\n",
    "im = im/255\n",
    "\n",
    "fig2 = plt.figure()\n",
    "# ax7 = fig2.add_subplot(131)\n",
    "# ax7.imshow(im,cmap=\"gray\")\n",
    "\n",
    "im2 = add_gaussian_noise(im,prop,varSigma)\n",
    "ax8 = fig2.add_subplot(131)\n",
    "ax8.imshow(im2,cmap=\"gray\")\n",
    "# print(im)\n",
    "\n",
    "im5 = gibbsAltered(im2,1)\n",
    "ax9 = fig2.add_subplot(131)\n",
    "ax9.imshow(im2,cmap=\"gray\")\n",
    "\n",
    "im3 = gibbsAltered(im2,5)\n",
    "ax9 = fig2.add_subplot(132)\n",
    "ax9.imshow(im2,cmap=\"gray\")\n",
    "\n",
    "im4 = gibbsAltered(im2,10)\n",
    "ax9 = fig2.add_subplot(133)\n",
    "ax9.imshow(im2,cmap=\"gray\")\n",
    "\n",
    "plt.show()\n",
    "\n"
   ]
  },
  {
   "cell_type": "markdown",
   "metadata": {},
   "source": [
    "## Question 4"
   ]
  },
  {
   "cell_type": "code",
   "execution_count": 6,
   "metadata": {},
   "outputs": [
    {
     "name": "stderr",
     "output_type": "stream",
     "text": [
      "/Users/adamsadiq/Downloads/anaconda3/lib/python3.7/site-packages/ipykernel_launcher.py:4: DeprecationWarning: `imread` is deprecated!\n",
      "`imread` is deprecated in SciPy 1.0.0, and will be removed in 1.2.0.\n",
      "Use ``imageio.imread`` instead.\n",
      "  after removing the cwd from sys.path.\n"
     ]
    },
    {
     "name": "stdout",
     "output_type": "stream",
     "text": [
      "0\n",
      "0\n",
      "1\n",
      "2\n",
      "3\n",
      "4\n",
      "0\n",
      "1\n",
      "2\n",
      "3\n",
      "4\n",
      "5\n",
      "6\n",
      "7\n",
      "8\n",
      "9\n"
     ]
    },
    {
     "data": {
      "image/png": "[encoded data removed]",
      "text/plain": [
       "<Figure size 432x288 with 4 Axes>"
      ]
     },
     "metadata": {
      "needs_background": "light"
     },
     "output_type": "display_data"
    }
   ],
   "source": [
    "prop = 0.4\n",
    "\n",
    "varSigma = 0.2\n",
    "im = imread('pug-done.jpg')\n",
    "im = im/255\n",
    "\n",
    "fig5 = plt.figure()\n",
    "# ax7 = fig2.add_subplot(131)\n",
    "# ax7.imshow(im,cmap=\"gray\")\n",
    "\n",
    "im2 = add_gaussian_noise(im,prop,varSigma)\n",
    "ax10 = fig5.add_subplot(141)\n",
    "ax10.imshow(im2,cmap=\"gray\")\n",
    "# print(im)\n",
    "\n",
    "\n",
    "im4 = gibbsSampling(im2,1)\n",
    "ax10 = fig5.add_subplot(142)\n",
    "ax10.imshow(im2,cmap=\"gray\")\n",
    "\n",
    "im3 = gibbsSampling(im2,5)\n",
    "ax10 = fig5.add_subplot(143)\n",
    "ax10.imshow(im2,cmap=\"gray\")\n",
    "\n",
    "im5 = gibbsSampling(im2,10)\n",
    "ax10 = fig5.add_subplot(144)\n",
    "ax10.imshow(im2,cmap=\"gray\")\n",
    "\n",
    "plt.show()\n"
   ]
  },
  {
   "cell_type": "markdown",
   "metadata": {},
   "source": [
    "## Question 6"
   ]
  },
  {
   "cell_type": "code",
   "execution_count": 7,
   "metadata": {},
   "outputs": [
    {
     "name": "stderr",
     "output_type": "stream",
     "text": [
      "/Users/adamsadiq/Downloads/anaconda3/lib/python3.7/site-packages/ipykernel_launcher.py:52: DeprecationWarning: `imread` is deprecated!\n",
      "`imread` is deprecated in SciPy 1.0.0, and will be removed in 1.2.0.\n",
      "Use ``imageio.imread`` instead.\n"
     ]
    },
    {
     "data": {
      "image/png": "[encoded data removed]",
      "text/plain": [
       "<Figure size 432x288 with 2 Axes>"
      ]
     },
     "metadata": {
      "needs_background": "light"
     },
     "output_type": "display_data"
    }
   ],
   "source": [
    "def weight(i,j,neighbour):\n",
    "    w = 0\n",
    "    if(i == neighbour[0]):\n",
    "        w = 0.25\n",
    "    elif ( j == neighbour[1]):\n",
    "        w = 0.25\n",
    "    else:\n",
    "        w = 0.15\n",
    "        \n",
    "    return w\n",
    "\n",
    "\n",
    "def variationalBayes(im,tau):\n",
    "    x = np.copy(im)\n",
    "    mu = np.copy(x)\n",
    "    m=2.5\n",
    "    #INITIALISATION\n",
    "    I = im.shape[0]\n",
    "    J = im.shape[1]\n",
    "    for i in range(0,I):\n",
    "        for j in range (0,J):\n",
    "            a = energy(x,im,neighbours(i,j,I,J),1,(i,j),2,1)\n",
    "            b = energy(x,im,neighbours(i,j,I,J),-1,(i,j),2,1)\n",
    "            mu[(i,j)] = np.tanh(m + 0.5*(np.log((a+0.0001)/(b+0.0001))))\n",
    "            \n",
    "            \n",
    "            \n",
    "            \n",
    "            \n",
    "            \n",
    "            m = 0\n",
    "            for t in range(tau):\n",
    "                for i in range(0,I):\n",
    "                    for j in range(0,J):\n",
    "                        nbs = neighbours(i,j,I,J)\n",
    "                        a = energy(x,im,nbs,1,(i,j),2,1)\n",
    "                        b = energy(x,im,nbs,-1,(i,j),2,1)\n",
    "                        for n in range(0,len(nbs)):\n",
    "                            m += weight(i,j,nbs[n]) * mu[nbs[n]]\n",
    "                            \n",
    "                            mu[(i,j)] = np.tanh(m + 0.5*(np.log((a+0.0001)/(b+0.0001))))\n",
    "                            if(mu[(i,j)] > 0):\n",
    "                                x[(i,j)] = -1\n",
    "                            else:\n",
    "                                x[(i,j)] = 1\n",
    "                            m = 0\n",
    "     \n",
    "            return x\n",
    "\n",
    "prop = 0.4\n",
    "varSigma = 0.2\n",
    "im = imread('pug-done.jpg')\n",
    "im = im/255\n",
    "\n",
    "fig20 = plt.figure()\n",
    "\n",
    "im2 = add_gaussian_noise(im,prop,varSigma)\n",
    "ax8 = fig20.add_subplot(121)\n",
    "ax8.imshow(im2,cmap=\"gray\")\n",
    "\n",
    "im3 = variationalBayes(im2,1)\n",
    "ax9 = fig20.add_subplot(122)\n",
    "ax9.imshow(im3,cmap=\"gray\")\n",
    "\n",
    "\n",
    "plt.show()"
   ]
  },
  {
   "cell_type": "markdown",
   "metadata": {},
   "source": [
    "# Question 8"
   ]
  },
  {
   "cell_type": "code",
   "execution_count": 8,
   "metadata": {},
   "outputs": [
    {
     "name": "stderr",
     "output_type": "stream",
     "text": [
      "/Users/adamsadiq/Downloads/anaconda3/lib/python3.7/site-packages/ipykernel_launcher.py:5: DeprecationWarning: `imread` is deprecated!\n",
      "`imread` is deprecated in SciPy 1.0.0, and will be removed in 1.2.0.\n",
      "Use ``imageio.imread`` instead.\n",
      "  \"\"\"\n",
      "/Users/adamsadiq/Downloads/anaconda3/lib/python3.7/site-packages/ipykernel_launcher.py:8: DeprecationWarning: `imread` is deprecated!\n",
      "`imread` is deprecated in SciPy 1.0.0, and will be removed in 1.2.0.\n",
      "Use ``imageio.imread`` instead.\n",
      "  \n"
     ]
    },
    {
     "data": {
      "text/plain": [
       "<matplotlib.image.AxesImage at 0x1a19794438>"
      ]
     },
     "execution_count": 8,
     "metadata": {},
     "output_type": "execute_result"
    },
    {
     "data": {
      "image/png": "[encoded data removed]",
      "text/plain": [
       "<Figure size 432x288 with 1 Axes>"
      ]
     },
     "metadata": {
      "needs_background": "light"
     },
     "output_type": "display_data"
    },
    {
     "data": {
      "image/png": "[encoded data removed]",
      "text/plain": [
       "<Figure size 432x288 with 1 Axes>"
      ]
     },
     "metadata": {
      "needs_background": "light"
     },
     "output_type": "display_data"
    }
   ],
   "source": [
    "from sklearn.cluster import KMeans\n",
    "\n",
    "prop = 0.4\n",
    "varSigma = 0.2\n",
    "original = imread('ronaldo7.jpg')\n",
    "\n",
    "ronaldoRGB = imread('ronaldoRGB7.jpg')\n",
    "\n",
    "height = ronaldoRGB.shape[0]\n",
    "width = ronaldoRGB.shape[1]\n",
    "\n",
    "\n",
    "background = [255,0,0]\n",
    "\n",
    "foreground = [0,255,0]\n",
    "\n",
    "def evaluate(pixel, standard):\n",
    "    equal = True\n",
    "    \n",
    "    \n",
    "    if (standard[0] == 255):\n",
    "        if (not (pixel[0] > 200 and pixel[1] < 15 and pixel[2] < 15)):\n",
    "            equal = False\n",
    "    else:\n",
    "        if (not (pixel[0] < 15 and pixel[1] > 200 and pixel[2] < 15)):\n",
    "            equal = False\n",
    "    return equal\n",
    "\n",
    "\n",
    "\n",
    "def segmentation(ronaldoRGB):\n",
    "    copy = np.zeros((height,width))\n",
    "    for i in range(height):\n",
    "        for j in range(width):\n",
    "            if (evaluate(ronaldoRGB[i][j],foreground)):\n",
    "                copy[i][j] = 1\n",
    "            elif (evaluate(ronaldoRGB[i][j],background)):\n",
    "                copy[i][j] = -1\n",
    "            else:\n",
    "                copy[i][j] = 0\n",
    "    return histogram(copy, ronaldoRGB)\n",
    "\n",
    "\n",
    "def histogram(copy, ronaldoRGB):\n",
    "    foreground_R = []\n",
    "    foreground_G = []\n",
    "    foreground_B = []\n",
    "    \n",
    "    background_R = []\n",
    "    background_G = []\n",
    "    background_B = []\n",
    "    \n",
    "    dummy = 0\n",
    "\n",
    "    for i in range (height):\n",
    "        for j in range (width):\n",
    "            dummy = 1\n",
    "            if (copy[i][j] == 1):\n",
    "                foreground_R.append(original[i][j][0])\n",
    "                foreground_G.append(original[i][j][1])\n",
    "                foreground_B.append(original[i][j][2])\n",
    "            elif (copy[i][j] == -1):\n",
    "                background_R.append(original[i][j][0])\n",
    "                background_G.append(original[i][j][1])\n",
    "                background_B.append(original[i][j][2])\n",
    "\n",
    "   \n",
    "    plt.hist(foreground_R,bins=range(0,255))\n",
    "    plt.hist(foreground_G,bins=range(0,255))\n",
    "    plt.hist(foreground_B,bins=range(0,255))\n",
    "    \n",
    "    foregroundhistR = np.histogram(foreground_R, bins=255)\n",
    "    foregroundhistG = np.histogram(foreground_G, bins=255)\n",
    "    foregroundhistB = np.histogram(foreground_B, bins=255)\n",
    "\n",
    "    backgroundhistR = np.histogram(background_R, bins=255)\n",
    "    backgroundhistG = np.histogram(background_G, bins=255)\n",
    "    backgroundhistB = np.histogram(background_B, bins=255)\n",
    "    \n",
    "    \n",
    "    return cr7(foreground_R, foreground_G, foreground_B, background_R, background_G, background_B)\n",
    "        \n",
    "        \n",
    "def cr7(foreground_R, foreground_G, foreground_B, background_R, background_G, background_B):\n",
    "    result = np.copy(original)\n",
    "    for i in range (height):\n",
    "        for j in range (width):\n",
    "            if (compare(original[i][j],foreground_R, foreground_G, foreground_B, background_R, background_G, background_B)):\n",
    "                result[i][j][0] = 255\n",
    "                result[i][j][1] = 255\n",
    "                result[i][j][2] = 255\n",
    "    return result\n",
    "\n",
    "def compare(ronaldoPixel, foreground_R, foreground_G, foreground_B, background_R, background_G, background_B):\n",
    "    \n",
    "    backgroundVotes = 0\n",
    "    foregroundVotes = 0\n",
    "\n",
    "    if (distance.euclidean(ronaldoPixel[0],(foreground_R.count(ronaldoPixel[0]))) < distance.euclidean(ronaldoPixel[0],background_R.count(ronaldoPixel[0]))):\n",
    "        foregroundVotes = foregroundVotes + 1\n",
    "    \n",
    "    else:\n",
    "        backgroundVotes = backgroundVotes + 1\n",
    "        \n",
    "    \n",
    "    if (distance.euclidean(ronaldoPixel[1],foreground_G.count(ronaldoPixel[1])) < distance.euclidean(ronaldoPixel[1],background_G.count(ronaldoPixel[1]))):\n",
    "        foregroundVotes = foregroundVotes + 1\n",
    "\n",
    "    else:\n",
    "\n",
    "        backgroundVotes = backgroundVotes + 1\n",
    "    \n",
    "    if (distance.euclidean(ronaldoPixel[2],foreground_B.count(ronaldoPixel[2])) < distance.euclidean(ronaldoPixel[2],background_B.count(ronaldoPixel[2]))):\n",
    "\n",
    "        foregroundVotes = foregroundVotes + 1\n",
    "\n",
    "    else:\n",
    "\n",
    "        backgroundVotes = backgroundVotes + 1\n",
    "    \n",
    "    if (foregroundVotes < backgroundVotes):\n",
    "        return True\n",
    "    else:\n",
    "        return False\n",
    "\n",
    "\n",
    "result = segmentation(ronaldoRGB)\n",
    "fig20 = plt.figure()\n",
    "\n",
    "ax98 = fig20.add_subplot(132)\n",
    "ax98.imshow(result,cmap=\"gray\")\n",
    "\n"
   ]
  },
  {
   "cell_type": "code",
   "execution_count": null,
   "metadata": {},
   "outputs": [],
   "source": []
  }
 ],
 "metadata": {
  "kernelspec": {
   "display_name": "Python 3",
   "language": "python",
   "name": "python3"
  },
  "language_info": {
   "codemirror_mode": {
    "name": "ipython",
    "version": 3
   },
   "file_extension": ".py",
   "mimetype": "text/x-python",
   "name": "python",
   "nbconvert_exporter": "python",
   "pygments_lexer": "ipython3",
   "version": "3.7.0"
  }
 },
 "nbformat": 4,
 "nbformat_minor": 2
}
